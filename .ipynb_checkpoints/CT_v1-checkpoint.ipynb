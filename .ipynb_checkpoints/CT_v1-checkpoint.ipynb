{
 "cells": [
  {
   "cell_type": "markdown",
   "id": "63ccfd1e-544f-4a42-9fb0-22240e3c74d7",
   "metadata": {},
   "source": [
    "Mostafa Ismail, PhD Candidate at the University of Pennsylvania"
   ]
  },
  {
   "cell_type": "raw",
   "id": "6f74c961-08c5-417b-ad6d-089c397715b9",
   "metadata": {},
   "source": [
    "- This program is for CT analysis.\n",
    "- Use it with DICOM image series. \n",
    "\n",
    "This code takes a dicom_dir as input and generates:\n",
    "    1- nifti image saved in the same directory (exampleCT.nii.gz)\n",
    "    2- segmentation mask (exampleCT_m.nii.gz)\n",
    "    3- air content image (exampleCT__air_content.png)"
   ]
  },
  {
   "cell_type": "code",
   "execution_count": 5,
   "id": "9bf20fe6-9b75-4497-bdc9-cdd69b7e85dc",
   "metadata": {},
   "outputs": [],
   "source": [
    "from utils import * "
   ]
  },
  {
   "cell_type": "markdown",
   "id": "22154853-b7a8-4c3f-87e0-a0883aa50b4c",
   "metadata": {},
   "source": [
    "Only update the path for the dicom_dir below: "
   ]
  },
  {
   "cell_type": "code",
   "execution_count": 6,
   "id": "8115bcfc-acec-4fab-8f4d-354c9e2c25b8",
   "metadata": {},
   "outputs": [],
   "source": [
    "dicom_dir = '/Users/mostafaismail/Documents/Carly/S6060_MapleSyrup/S6020'"
   ]
  },
  {
   "cell_type": "code",
   "execution_count": 7,
   "id": "64f7e654-cfbe-44c9-8aa2-f0e2e2c19099",
   "metadata": {},
   "outputs": [
    {
     "name": "stdout",
     "output_type": "stream",
     "text": [
      "NIFTI files are already there..skip..\n",
      "Segmentation mask is already there..skip..\n",
      "The output image (air_content) is already there..skip..\n",
      "Program is complete, finished in 0 seconds\n"
     ]
    }
   ],
   "source": [
    "run(dicom_dir)"
   ]
  },
  {
   "cell_type": "raw",
   "id": "0b83f093-ae03-4029-8e0e-818e80c70e0c",
   "metadata": {},
   "source": [
    "The output should look like this:\n",
    "    Converting Dicom to NIFT..\n",
    "    Segmenting the lungs..\n",
    "    Analyzing the image..\n",
    "    Saved the output image in /Users/mostafaismail/Documents/Carly/S6060_MapleSyrup/Air_contect.png\n",
    "    Program is complete, finished in 51 seconds\n",
    "or\n",
    "    NIFTI files are already there..skip..\n",
    "    Segmentation mask is already there..skip..\n",
    "    The output image (air_content) is already there..skip..\n",
    "    Program is complete, finished in 0 seconds"
   ]
  },
  {
   "cell_type": "markdown",
   "id": "d942989e-9150-4028-81b2-cf2705a430c5",
   "metadata": {},
   "source": [
    "After this you'll need to inspect the air_content image. \n",
    "If it looks weird, then check the mask image \"_m.nii.gz\"\n",
    "\n",
    "This is a work in progres.. Let Mostafa know if there are issues!\n",
    "mostafai@seas.upenn.edu"
   ]
  },
  {
   "cell_type": "code",
   "execution_count": null,
   "id": "ddeeb83f-ced6-4ac3-929a-18ff1837e6ab",
   "metadata": {},
   "outputs": [],
   "source": []
  }
 ],
 "metadata": {
  "kernelspec": {
   "display_name": "mi-env",
   "language": "python",
   "name": "mi-env"
  },
  "language_info": {
   "codemirror_mode": {
    "name": "ipython",
    "version": 3
   },
   "file_extension": ".py",
   "mimetype": "text/x-python",
   "name": "python",
   "nbconvert_exporter": "python",
   "pygments_lexer": "ipython3",
   "version": "3.10.4"
  }
 },
 "nbformat": 4,
 "nbformat_minor": 5
}
